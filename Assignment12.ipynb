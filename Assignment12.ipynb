{
 "cells": [
  {
   "cell_type": "markdown",
   "id": "2644a5dc-4cff-4679-a17b-c588340097bc",
   "metadata": {},
   "source": [
    "### Rachana Amgai\n",
    "### Assignment 12\n",
    "### 11/11/2024"
   ]
  },
  {
   "cell_type": "code",
   "execution_count": null,
   "id": "fb8573c8-9bb3-49d4-8257-df737243ce7b",
   "metadata": {},
   "outputs": [],
   "source": []
  },
  {
   "cell_type": "markdown",
   "id": "df0f8156-28e6-422c-823b-9f1d7f2d6c23",
   "metadata": {},
   "source": [
    "### Part 1 "
   ]
  },
  {
   "cell_type": "code",
   "execution_count": 15,
   "id": "16ab786c-6c32-4b51-a6f0-51089204a01b",
   "metadata": {},
   "outputs": [
    {
     "name": "stdout",
     "output_type": "stream",
     "text": [
      "(a) P(A|D) = 0.4390\n",
      "(b) P(C|not D) = 0.2527\n"
     ]
    }
   ],
   "source": [
    "# Given probabilities\n",
    "P_A = 0.3\n",
    "P_B = 0.45\n",
    "P_C = 0.25\n",
    "\n",
    "P_D_given_A = 0.03\n",
    "P_D_given_B = 0.02\n",
    "P_D_given_C = 0.01\n",
    "\n",
    "# Calculate P(D) - total probability of defect\n",
    "P_D = P_A * P_D_given_A + P_B * P_D_given_B + P_C * P_D_given_C\n",
    "\n",
    "# (a) P(A|D) - probability of Process A given defect\n",
    "P_A_given_D = (P_D_given_A * P_A) / P_D\n",
    "\n",
    "# (b) P(C|not D) - probability of Process C given no defect\n",
    "P_not_D_given_C = 1 - P_D_given_C\n",
    "P_not_D = 1 - P_D\n",
    "P_C_given_not_D = (P_not_D_given_C * P_C) / P_not_D\n",
    "\n",
    "print(f\"(a) P(A|D) = {P_A_given_D:.4f}\")\n",
    "print(f\"(b) P(C|not D) = {P_C_given_not_D:.4f}\")"
   ]
  },
  {
   "cell_type": "code",
   "execution_count": null,
   "id": "b5b755ba-4505-4b2f-aff6-96631c8a785f",
   "metadata": {},
   "outputs": [],
   "source": []
  },
  {
   "cell_type": "markdown",
   "id": "51f8d561-5e06-4e74-a54c-eb7e76f33759",
   "metadata": {},
   "source": [
    "### Part 2"
   ]
  },
  {
   "cell_type": "code",
   "execution_count": 17,
   "id": "269e5b76-b830-4416-ab15-c78a1e894f03",
   "metadata": {},
   "outputs": [
    {
     "name": "stdout",
     "output_type": "stream",
     "text": [
      "Entropy of fair coin toss: 1.0\n",
      "Entropy of biased die: 2.4464393446710155\n",
      "Entropy of certain event: 0.0\n"
     ]
    }
   ],
   "source": [
    "import math\n",
    "\n",
    "def calculate_entropy(probabilities):\n",
    "\n",
    "    # Check if probabilities sum to 1 (allowing for small floating-point errors)\n",
    "    if not math.isclose(sum(probabilities), 1.0, rel_tol=1e-9):\n",
    "        raise ValueError(\"Probabilities must sum to 1\")\n",
    "    \n",
    "    entropy = 0\n",
    "    for p in probabilities:\n",
    "        if p > 0:  # Avoid log(0) which is undefined\n",
    "            entropy -= p * math.log2(p)\n",
    "    \n",
    "    return entropy\n",
    "\n",
    "# Example usage:\n",
    "if __name__ == \"__main__\":\n",
    "    # Example 1: Fair coin toss\n",
    "    print(\"Entropy of fair coin toss:\", calculate_entropy([0.5, 0.5]))\n",
    "    \n",
    "    # Example 2: Biased die\n",
    "    print(\"Entropy of biased die:\", calculate_entropy([0.1, 0.2, 0.3, 0.1, 0.1, 0.2]))\n",
    "    \n",
    "    # Example 3: Certain event\n",
    "    print(\"Entropy of certain event:\", calculate_entropy([1.0]))"
   ]
  },
  {
   "cell_type": "code",
   "execution_count": null,
   "id": "dfdc9d2a-33c2-4f5f-b857-baccd084f439",
   "metadata": {},
   "outputs": [],
   "source": []
  },
  {
   "cell_type": "markdown",
   "id": "bdb0e1a2-456b-49ec-80dd-ad5083d9371a",
   "metadata": {},
   "source": [
    "### part 3"
   ]
  },
  {
   "cell_type": "code",
   "execution_count": 19,
   "id": "3876189f-9199-4e59-aa04-2c1310731df2",
   "metadata": {},
   "outputs": [
    {
     "name": "stdout",
     "output_type": "stream",
     "text": [
      "(a) Entropy of X: 2.3219 bits\n",
      "    Entropy of Y: 2.0464 bits\n",
      "\n",
      "(b) The entropy of X is bigger.\n"
     ]
    }
   ],
   "source": [
    "# Probabilities for X and Y\n",
    "P_X = [0.2, 0.2, 0.2, 0.2, 0.2]\n",
    "P_Y = [0.1, 0.4, 0.1, 0.3, 0.1]\n",
    "\n",
    "# Calculate entropies\n",
    "entropy_X = calculate_entropy(P_X)\n",
    "entropy_Y = calculate_entropy(P_Y)\n",
    "\n",
    "print(f\"(a) Entropy of X: {entropy_X:.4f} bits\")\n",
    "print(f\"    Entropy of Y: {entropy_Y:.4f} bits\")\n",
    "\n",
    "print(f\"\\n(b) The entropy of {'X' if entropy_X > entropy_Y else 'Y'} is bigger.\")"
   ]
  },
  {
   "cell_type": "markdown",
   "id": "1da3d557-51f3-466a-a159-f18245361393",
   "metadata": {},
   "source": [
    "#### X has higher entropy because its uniform distribution represents maximum uncertainty and unpredictability, while Y's non-uniform distribution introduces some level of predictability, reducing its entropy. This aligns with the intuition that a fair die (like X) is more unpredictablethan a biased one (like Y).\n"
   ]
  },
  {
   "cell_type": "code",
   "execution_count": null,
   "id": "64acfba1-2815-4a70-8577-1d5fdda8cdf2",
   "metadata": {},
   "outputs": [],
   "source": []
  }
 ],
 "metadata": {
  "kernelspec": {
   "display_name": "Python 3 (ipykernel)",
   "language": "python",
   "name": "python3"
  },
  "language_info": {
   "codemirror_mode": {
    "name": "ipython",
    "version": 3
   },
   "file_extension": ".py",
   "mimetype": "text/x-python",
   "name": "python",
   "nbconvert_exporter": "python",
   "pygments_lexer": "ipython3",
   "version": "3.12.4"
  }
 },
 "nbformat": 4,
 "nbformat_minor": 5
}
